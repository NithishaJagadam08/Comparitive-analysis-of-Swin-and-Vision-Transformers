{
  "nbformat": 4,
  "nbformat_minor": 0,
  "metadata": {
    "colab": {
      "provenance": [],
      "gpuType": "T4"
    },
    "kernelspec": {
      "name": "python3",
      "display_name": "Python 3"
    },
    "language_info": {
      "name": "python"
    },
    "accelerator": "GPU"
  },
  "cells": [
    {
      "cell_type": "code",
      "execution_count": 1,
      "metadata": {
        "colab": {
          "base_uri": "https://localhost:8080/"
        },
        "id": "0nBghwLW1wJ1",
        "outputId": "d7ff450f-1f6c-4e86-f9b1-3d99e6885946"
      },
      "outputs": [
        {
          "output_type": "stream",
          "name": "stdout",
          "text": [
            "Hello\n"
          ]
        }
      ],
      "source": [
        "print(\"Hello\")"
      ]
    },
    {
      "cell_type": "code",
      "source": [
        "import torch\n",
        "import torchvision\n",
        "from torchvision.models.detection import FasterRCNN\n",
        "from torchvision.models.detection.rpn import AnchorGenerator\n",
        "from torch.utils.data import Dataset, DataLoader\n",
        "from torchvision.transforms import functional as F\n",
        "import numpy as np\n",
        "from PIL import Image\n",
        "import os\n",
        "import matplotlib.pyplot as plt\n",
        "from torch.optim import AdamW\n",
        "from tqdm import tqdm\n",
        "\n",
        "# Check if GPU is available\n",
        "device = torch.device('cuda') if torch.cuda.is_available() else torch.device('cpu')\n",
        "print(f\"Using device: {device}\")\n",
        "\n",
        "# Simplified dataset with 2 classes (person and car) and 500/100 images\n",
        "class MiniDataset(Dataset):\n",
        "    def __init__(self, num_samples=20, transforms=None):\n",
        "        self.transforms = transforms\n",
        "        self.classes = ['__background__', 'person', 'car']\n",
        "        self.num_samples = num_samples\n",
        "\n",
        "    def __getitem__(self, idx):\n",
        "        # Create dummy image data (replace with actual images)\n",
        "        img = np.random.randint(0, 255, (300, 400, 3), dtype=np.uint8)\n",
        "\n",
        "        # Create 1-3 random boxes per image\n",
        "        num_boxes = np.random.randint(1, 4)\n",
        "        boxes = []\n",
        "        labels = []\n",
        "        for _ in range(num_boxes):\n",
        "            x1 = np.random.randint(0, 300)\n",
        "            y1 = np.random.randint(0, 300)\n",
        "            x2 = x1 + np.random.randint(50, 150)\n",
        "            y2 = y1 + np.random.randint(50, 150)\n",
        "            boxes.append([x1, y1, x2, y2])\n",
        "            labels.append(np.random.randint(1, 3))  # 1 or 2 (person or car)\n",
        "\n",
        "        img = Image.fromarray(img)\n",
        "        target = {'boxes': torch.tensor(boxes), 'labels': torch.tensor(labels)}\n",
        "\n",
        "        if self.transforms is not None:\n",
        "            img = self.transforms(img)\n",
        "\n",
        "        return img, target\n",
        "\n",
        "    def __len__(self):\n",
        "        return self.num_samples\n",
        "\n",
        "# Simple transform\n",
        "def get_transform():\n",
        "    return torchvision.transforms.Compose([\n",
        "        torchvision.transforms.ToTensor(),\n",
        "    ])\n"
      ],
      "metadata": {
        "colab": {
          "base_uri": "https://localhost:8080/"
        },
        "id": "ftYkx48v2S9Z",
        "outputId": "89c9cb5c-4130-4569-a781-d1dd2b5d345f"
      },
      "execution_count": 4,
      "outputs": [
        {
          "output_type": "stream",
          "name": "stdout",
          "text": [
            "Using device: cuda\n"
          ]
        }
      ]
    },
    {
      "cell_type": "code",
      "source": [
        "\n",
        "# Create datasets (500 train, 100 test)\n",
        "dataset_train = MiniDataset(num_samples=500, transforms=get_transform())\n",
        "dataset_test = MiniDataset(num_samples=100, transforms=get_transform())\n",
        "\n",
        "print(f\"Train dataset size: {len(dataset_train)}\")\n",
        "print(f\"Test dataset size: {len(dataset_test)}\")\n",
        "\n",
        "# Create data loaders\n",
        "data_loader_train = DataLoader(\n",
        "    dataset_train, batch_size=4, shuffle=True,  # Increased batch size from 2 to 4\n",
        "    collate_fn=lambda x: tuple(zip(*x)))\n",
        "\n",
        "data_loader_test = DataLoader(\n",
        "    dataset_test, batch_size=2, shuffle=False,  # Increased batch size from 1 to 2\n",
        "    collate_fn=lambda x: tuple(zip(*x)))\n",
        "\n",
        "# Load Swin Transformer backbone with proper feature extraction\n",
        "from torchvision.models import swin_t\n",
        "backbone = swin_t(weights='DEFAULT')\n",
        "\n",
        "# Extract features from Swin\n",
        "class SwinBackbone(torch.nn.Module):\n",
        "    def __init__(self, swin_model):\n",
        "        super().__init__()\n",
        "        self.features = torch.nn.Sequential(\n",
        "            swin_model.features,\n",
        "            swin_model.norm,\n",
        "            swin_model.permute,\n",
        "            swin_model.avgpool,\n",
        "            swin_model.flatten\n",
        "        )\n",
        "        self.out_channels = 768  # Must define this for FasterRCNN\n",
        "\n",
        "    def forward(self, x):\n",
        "        return {'0': self.features(x).unsqueeze(-1).unsqueeze(-1)}  # Return as feature map\n",
        "\n",
        "backbone = SwinBackbone(backbone)\n",
        "\n",
        "# Task-specific detection head\n",
        "anchor_generator = AnchorGenerator(\n",
        "    sizes=((32, 64, 128),),  # Smaller anchors for our small dataset\n",
        "    aspect_ratios=((0.5, 1.0, 2.0),)\n",
        ")\n",
        "\n",
        "roi_pooler = torchvision.ops.MultiScaleRoIAlign(\n",
        "    featmap_names=['0'],\n",
        "    output_size=7,\n",
        "    sampling_ratio=2\n",
        ")\n",
        "\n",
        "# Create model\n",
        "model = FasterRCNN(\n",
        "    backbone,\n",
        "    num_classes=3,  # background + 2 classes\n",
        "    rpn_anchor_generator=anchor_generator,\n",
        "    box_roi_pool=roi_pooler\n",
        ")\n",
        "model.to(device)\n",
        "\n",
        "# Simple optimizer\n",
        "optimizer = AdamW(model.parameters(), lr=0.0001)\n",
        "\n",
        "# Training function (now 10 epochs)\n",
        "def train_model(model, optimizer, data_loader, device, epochs=10):\n",
        "    model.train()\n",
        "    loss_history = []\n",
        "\n",
        "    for epoch in range(epochs):\n",
        "        total_loss = 0\n",
        "        progress_bar = tqdm(data_loader, desc=f'Epoch {epoch+1}/{epochs}')\n",
        "\n",
        "        for images, targets in progress_bar:\n",
        "            images = [image.to(device) for image in images]\n",
        "            targets = [{k: v.to(device) for k, v in t.items()} for t in targets]\n",
        "\n",
        "            loss_dict = model(images, targets)\n",
        "            losses = sum(loss for loss in loss_dict.values())\n",
        "\n",
        "            optimizer.zero_grad()\n",
        "            losses.backward()\n",
        "            optimizer.step()\n",
        "\n",
        "            total_loss += losses.item()\n",
        "            progress_bar.set_postfix(loss=losses.item())\n",
        "\n",
        "        avg_loss = total_loss/len(data_loader)\n",
        "        loss_history.append(avg_loss)\n",
        "        print(f\"Epoch {epoch+1} loss: {avg_loss:.4f}\")\n",
        "\n",
        "    return loss_history\n",
        "\n",
        "# Train the model for 10 epochs\n",
        "loss_history = train_model(model, optimizer, data_loader_train, device, epochs=10)\n",
        "\n",
        "# Plot training loss\n",
        "plt.plot(loss_history)\n",
        "plt.title('Training Loss Over Epochs')\n",
        "plt.xlabel('Epoch')\n",
        "plt.ylabel('Loss')\n",
        "plt.show()\n",
        "\n",
        "# Enhanced test evaluation\n",
        "model.eval()\n",
        "correct = 0\n",
        "total = 0\n",
        "with torch.no_grad():\n",
        "    for images, targets in data_loader_test:\n",
        "        images = [image.to(device) for image in images]\n",
        "        outputs = model(images)\n",
        "\n",
        "        # Simple accuracy check\n",
        "        if len(outputs[0]['labels']) > 0:\n",
        "            correct += 1\n",
        "        total += 1\n"
      ],
      "metadata": {
        "colab": {
          "base_uri": "https://localhost:8080/",
          "height": 854
        },
        "id": "W312njia13uL",
        "outputId": "70345401-1548-478f-b03b-9a817c7f6255"
      },
      "execution_count": 5,
      "outputs": [
        {
          "output_type": "stream",
          "name": "stdout",
          "text": [
            "Train dataset size: 500\n",
            "Test dataset size: 100\n"
          ]
        },
        {
          "output_type": "stream",
          "name": "stderr",
          "text": [
            "Epoch 1/10: 100%|██████████| 125/125 [02:00<00:00,  1.03it/s, loss=8.75]\n"
          ]
        },
        {
          "output_type": "stream",
          "name": "stdout",
          "text": [
            "Epoch 1 loss: 12.2538\n"
          ]
        },
        {
          "output_type": "stream",
          "name": "stderr",
          "text": [
            "Epoch 2/10: 100%|██████████| 125/125 [02:01<00:00,  1.03it/s, loss=10.5]\n"
          ]
        },
        {
          "output_type": "stream",
          "name": "stdout",
          "text": [
            "Epoch 2 loss: 9.1179\n"
          ]
        },
        {
          "output_type": "stream",
          "name": "stderr",
          "text": [
            "Epoch 3/10: 100%|██████████| 125/125 [02:01<00:00,  1.03it/s, loss=7.88]\n"
          ]
        },
        {
          "output_type": "stream",
          "name": "stdout",
          "text": [
            "Epoch 3 loss: 8.8120\n"
          ]
        },
        {
          "output_type": "stream",
          "name": "stderr",
          "text": [
            "Epoch 4/10: 100%|██████████| 125/125 [02:01<00:00,  1.03it/s, loss=11.9]\n"
          ]
        },
        {
          "output_type": "stream",
          "name": "stdout",
          "text": [
            "Epoch 4 loss: 8.7808\n"
          ]
        },
        {
          "output_type": "stream",
          "name": "stderr",
          "text": [
            "Epoch 5/10: 100%|██████████| 125/125 [02:01<00:00,  1.03it/s, loss=5.84]\n"
          ]
        },
        {
          "output_type": "stream",
          "name": "stdout",
          "text": [
            "Epoch 5 loss: 8.9965\n"
          ]
        },
        {
          "output_type": "stream",
          "name": "stderr",
          "text": [
            "Epoch 6/10: 100%|██████████| 125/125 [02:01<00:00,  1.03it/s, loss=9.2]\n"
          ]
        },
        {
          "output_type": "stream",
          "name": "stdout",
          "text": [
            "Epoch 6 loss: 8.5747\n"
          ]
        },
        {
          "output_type": "stream",
          "name": "stderr",
          "text": [
            "Epoch 7/10: 100%|██████████| 125/125 [02:01<00:00,  1.03it/s, loss=7.76]\n"
          ]
        },
        {
          "output_type": "stream",
          "name": "stdout",
          "text": [
            "Epoch 7 loss: 8.7362\n"
          ]
        },
        {
          "output_type": "stream",
          "name": "stderr",
          "text": [
            "Epoch 8/10: 100%|██████████| 125/125 [02:01<00:00,  1.03it/s, loss=7.22]\n"
          ]
        },
        {
          "output_type": "stream",
          "name": "stdout",
          "text": [
            "Epoch 8 loss: 8.4113\n"
          ]
        },
        {
          "output_type": "stream",
          "name": "stderr",
          "text": [
            "Epoch 9/10: 100%|██████████| 125/125 [02:01<00:00,  1.03it/s, loss=13.8]\n"
          ]
        },
        {
          "output_type": "stream",
          "name": "stdout",
          "text": [
            "Epoch 9 loss: 8.7605\n"
          ]
        },
        {
          "output_type": "stream",
          "name": "stderr",
          "text": [
            "Epoch 10/10: 100%|██████████| 125/125 [02:01<00:00,  1.03it/s, loss=7.62]\n"
          ]
        },
        {
          "output_type": "stream",
          "name": "stdout",
          "text": [
            "Epoch 10 loss: 8.6657\n"
          ]
        },
        {
          "output_type": "display_data",
          "data": {
            "text/plain": [
              "<Figure size 640x480 with 1 Axes>"
            ],
            "image/png": "[encoded data removed]"
          },
          "metadata": {}
        }
      ]
    },
    {
      "cell_type": "code",
      "source": [
        "print(f\"Detection rate: {correct/total:.2%}\")\n",
        "\n",
        "# Save model\n",
        "torch.save(model.state_dict(), 'swin_detection_10epoch.pth')\n",
        "print(\"Model saved!\")"
      ],
      "metadata": {
        "colab": {
          "base_uri": "https://localhost:8080/"
        },
        "id": "dAQTpKcz2Laa",
        "outputId": "477ee7a2-1f8c-4d4f-fe89-664befa255b8"
      },
      "execution_count": 10,
      "outputs": [
        {
          "output_type": "stream",
          "name": "stdout",
          "text": [
            "Detection rate: 84.00%\n",
            "Model saved!\n"
          ]
        }
      ]
    }
  ]
}